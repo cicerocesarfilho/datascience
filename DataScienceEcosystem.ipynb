{
 "cells": [
  {
   "cell_type": "markdown",
   "id": "bd30cb20-3237-488c-b559-80110270809c",
   "metadata": {},
   "source": [
    "# Data Science Tools and Ecosystem "
   ]
  },
  {
   "cell_type": "markdown",
   "id": "31b4b94c-3d47-474e-9bc4-91066ab86494",
   "metadata": {
    "jp-MarkdownHeadingCollapsed": true,
    "tags": []
   },
   "source": [
    "In this notebook, Data Science Tools and Ecosystem are summarized."
   ]
  },
  {
   "cell_type": "markdown",
   "id": "bf662c7b-986c-45c9-afcb-78471e26dc4f",
   "metadata": {
    "tags": []
   },
   "source": [
    "**Objectives:** \n",
    "- List of Data Science languages \n",
    "- List of Data Science Libraries\n",
    "- Data Science Open Source Tools\n",
    "- Arithmetics Expressions in Python"
   ]
  },
  {
   "cell_type": "markdown",
   "id": "20e94475-1693-4303-9162-4727aadd0728",
   "metadata": {},
   "source": [
    "Some of the popular languages that Data Scientists use are:\n",
    "1. Python\n",
    "2. SQL\n",
    "3. R"
   ]
  },
  {
   "cell_type": "markdown",
   "id": "fed7f9a5-e389-4f81-b5bf-f12d5790115d",
   "metadata": {},
   "source": [
    "Some of the commonly used libraries used by Data Scientists include:\n",
    "1. Pandas\n",
    "2. NumPy\n",
    "3. Mathlotlib"
   ]
  },
  {
   "cell_type": "markdown",
   "id": "d699d303-cf81-47f0-a048-9ac03b4dacf6",
   "metadata": {
    "tags": []
   },
   "source": [
    " Data Science Tools   |\n",
    "--------------|\n",
    " Postgree |\n",
    " MySQL |\n",
    " MongoDB |"
   ]
  },
  {
   "cell_type": "markdown",
   "id": "04e2975d-59c8-4aab-8ae8-b1567ae267b7",
   "metadata": {},
   "source": [
    "### Below are a few examples of evaluating arithmetic expressions in Python."
   ]
  },
  {
   "cell_type": "code",
   "execution_count": 2,
   "id": "3ee8a407-c634-4b18-b8b9-00255a2b0691",
   "metadata": {
    "tags": []
   },
   "outputs": [
    {
     "data": {
      "text/plain": [
       "17"
      ]
     },
     "execution_count": 2,
     "metadata": {},
     "output_type": "execute_result"
    }
   ],
   "source": [
    "(3*4)+5 # This a simple arithmetic expression to mutiply then add integers"
   ]
  },
  {
   "cell_type": "code",
   "execution_count": 3,
   "id": "b78e9134-1223-48b1-940f-ad8c25a137b9",
   "metadata": {
    "tags": []
   },
   "outputs": [
    {
     "data": {
      "text/plain": [
       "3.75"
      ]
     },
     "execution_count": 3,
     "metadata": {},
     "output_type": "execute_result"
    }
   ],
   "source": [
    "(3/4)*5 # This a simple arithmetic expression to divise then mutiply integers"
   ]
  },
  {
   "cell_type": "code",
   "execution_count": 4,
   "id": "6b66ae92-82dd-48b4-a85b-96addcb05d90",
   "metadata": {
    "tags": []
   },
   "outputs": [
    {
     "data": {
      "text/plain": [
       "3.3333333333333335"
      ]
     },
     "execution_count": 4,
     "metadata": {},
     "output_type": "execute_result"
    }
   ],
   "source": [
    "minutes = 200\n",
    "hours = minutes/60\n",
    "hours"
   ]
  },
  {
   "cell_type": "markdown",
   "id": "64822965-ef36-40fa-b652-91099a2d7698",
   "metadata": {},
   "source": [
    "## Author\n",
    "Cicero Fontes"
   ]
  }
 ],
 "metadata": {
  "kernelspec": {
   "display_name": "Python 3 (ipykernel)",
   "language": "python",
   "name": "python3"
  },
  "language_info": {
   "codemirror_mode": {
    "name": "ipython",
    "version": 3
   },
   "file_extension": ".py",
   "mimetype": "text/x-python",
   "name": "python",
   "nbconvert_exporter": "python",
   "pygments_lexer": "ipython3",
   "version": "3.11.5"
  }
 },
 "nbformat": 4,
 "nbformat_minor": 5
}
